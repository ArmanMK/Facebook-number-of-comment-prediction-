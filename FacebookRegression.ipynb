{
 "cells": [
  {
   "cell_type": "code",
   "execution_count": 1,
   "metadata": {},
   "outputs": [
    {
     "name": "stderr",
     "output_type": "stream",
     "text": [
      "C:\\Users\\Arman\\Anaconda3\\lib\\site-packages\\sklearn\\cross_validation.py:41: DeprecationWarning: This module was deprecated in version 0.18 in favor of the model_selection module into which all the refactored classes and functions are moved. Also note that the interface of the new CV iterators are different from that of this module. This module will be removed in 0.20.\n",
      "  \"This module will be removed in 0.20.\", DeprecationWarning)\n"
     ]
    },
    {
     "name": "stdout",
     "output_type": "stream",
     "text": [
      "Reading facebook dataset ...\n",
      "mean cross validation score: -7.000668097560694\n",
      "score without cv: 0.5866421272397222\n",
      "KNR with 3 neighbors MAE:[-6.5690544  -6.56077873 -7.33835301 -7.45333062 -7.08182373]\n",
      "cross validation runtime KNR with 3 neighbors :1.9683966636657715\n",
      "test error with 3 Neighbors: 7.1220359216452325\n"
     ]
    }
   ],
   "source": [
    "import numpy as np\n",
    "from sklearn.tree import DecisionTreeRegressor\n",
    "from sklearn.neighbors import KNeighborsRegressor\n",
    "from sklearn.metrics import mean_absolute_error\n",
    "import matplotlib.pyplot as plt\n",
    "from sklearn import cross_validation\n",
    "from sklearn.cross_validation import cross_val_score\n",
    "import time\n",
    "\n",
    "## Loading Data\n",
    "#def read_data_fb():\n",
    "print('Reading facebook dataset ...')\n",
    "train_x = np.loadtxt('data.csv', delimiter=',')\n",
    "train_y = np.loadtxt('labels.csv', delimiter=',')\n",
    "test_x = np.loadtxt('kaggle_data.csv', delimiter=',')\n",
    "\n",
    "## Split the provided data into training and test sets (80% train data, 20% test data)\n",
    "from sklearn.model_selection import train_test_split\n",
    "train_x, test_x, train_y, test_y = train_test_split(train_x, train_y, test_size=0.2, random_state=42)\n",
    "\n",
    "\n",
    "\n",
    "## KNR with 3 Neighbors\n",
    "StartTime = time.time()\n",
    "# Model Fitting\n",
    "KNR_one = KNeighborsRegressor(n_neighbors=3)\n",
    "KNR_one_fit = KNR_one.fit(train_x, train_y)\n",
    "# Cross Validation\n",
    "KNR_one_scores = cross_val_score(KNR_one, train_x, train_y, cv = 5, scoring=('neg_mean_absolute_error'))\n",
    "# Runtime Calculation\n",
    "KNR_one_CVTime = time.time() - StartTime\n",
    "# Predicting Test Data\n",
    "KNR_one_prediction = KNR_one_fit.predict(test_x)\n",
    "# Calculating Test Error\n",
    "Test_error_KNR_one = mean_absolute_error(test_y, KNR_one_prediction)\n",
    "\n",
    "print(\"mean cross validation score: {}\".format(np.mean(KNR_one_scores)))\n",
    "print(\"score without cv: {}\".format(KNR_one_fit.score(train_x, train_y)))\n",
    "print(\"KNR with 3 neighbors MAE:{}\" .format(KNR_one_scores))\n",
    "print(\"cross validation runtime KNR with 3 neighbors :{}\" .format(KNR_one_CVTime))\n",
    "print(\"test error with 3 Neighbors: {}\" .format(Test_error_KNR_one))"
   ]
  },
  {
   "cell_type": "code",
   "execution_count": 2,
   "metadata": {
    "collapsed": true
   },
   "outputs": [],
   "source": [
    "y=[234.57438898086548,\n",
    " 349.0342469215393,\n",
    " 441.8675711154938,\n",
    " 538.0203437805176,\n",
    " 617.0291438102722]\n",
    "x = [1, 2, 3, 4, 5]"
   ]
  },
  {
   "cell_type": "code",
   "execution_count": 13,
   "metadata": {
    "collapsed": true
   },
   "outputs": [],
   "source": [
    "import matplotlib.pyplot as plt\n",
    "from matplotlib.ticker import MaxNLocator\n",
    "\n",
    "ax = plt.figure().gca()\n",
    "ax.xaxis.set_major_locator(MaxNLocator(integer=True))\n",
    "plt.plot(x,y, 'b')\n",
    "\n",
    "plt.xlabel('Models')\n",
    "plt.ylabel('CrossVal Time')\n",
    "plt.title('CrossValidation Time Plot')\n",
    "plt.savefig('Desktop\\HW04\\Submission\\Figures')"
   ]
  },
  {
   "cell_type": "code",
   "execution_count": 14,
   "metadata": {},
   "outputs": [
    {
     "data": {
      "image/png": "[encoded data removed]",
      "text/plain": [
       "<matplotlib.figure.Figure at 0x2096ea317b8>"
      ]
     },
     "metadata": {},
     "output_type": "display_data"
    }
   ],
   "source": [
    "plt.show()"
   ]
  },
  {
   "cell_type": "code",
   "execution_count": null,
   "metadata": {},
   "outputs": [],
   "source": []
  },
  {
   "cell_type": "code",
   "execution_count": null,
   "metadata": {
    "collapsed": true
   },
   "outputs": [],
   "source": []
  },
  {
   "cell_type": "code",
   "execution_count": null,
   "metadata": {
    "collapsed": true
   },
   "outputs": [],
   "source": []
  }
 ],
 "metadata": {
  "kernelspec": {
   "display_name": "Python 3",
   "language": "python",
   "name": "python3"
  },
  "language_info": {
   "codemirror_mode": {
    "name": "ipython",
    "version": 3
   },
   "file_extension": ".py",
   "mimetype": "text/x-python",
   "name": "python",
   "nbconvert_exporter": "python",
   "pygments_lexer": "ipython3",
   "version": "3.6.3"
  }
 },
 "nbformat": 4,
 "nbformat_minor": 2
}
