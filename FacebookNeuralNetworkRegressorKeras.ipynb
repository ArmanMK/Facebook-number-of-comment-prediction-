{
 "cells": [
  {
   "cell_type": "code",
   "execution_count": 1,
   "metadata": {},
   "outputs": [
    {
     "name": "stderr",
     "output_type": "stream",
     "text": [
      "Using TensorFlow backend.\n"
     ]
    }
   ],
   "source": [
    "import numpy\n",
    "import pandas\n",
    "from keras.models import Sequential\n",
    "from keras.layers import Dense\n",
    "from keras.wrappers.scikit_learn import KerasRegressor\n",
    "from sklearn.model_selection import cross_val_score\n",
    "from sklearn.model_selection import KFold\n",
    "from sklearn.preprocessing import StandardScaler\n",
    "from sklearn.pipeline import Pipeline\n",
    "\n",
    "X = numpy.loadtxt('data.csv', delimiter=',')\n",
    "Y = numpy.loadtxt('labels.csv', delimiter=',X')\n",
    "test = numpy.loadtxt('kaggle_data.csv', delimiter=',')\n",
    "from sklearn import preprocessing\n",
    "X= preprocessing.scale(X)\n",
    "test= preprocessing.scale(test)\n",
    "\n",
    "# define the model\n",
    "from keras import regularizers\n",
    "from keras.constraints import non_neg\n",
    "def larger_model():\n",
    "\t# create model\n",
    "\tmodel = Sequential()\n",
    "\tmodel.add(Dense(52, input_dim=52, kernel_initializer='normal', activation='relu',kernel_regularizer=regularizers.l2(0.001)))\n",
    "\tmodel.add(Dense(6, kernel_initializer='normal', activation='relu',kernel_regularizer=regularizers.l1(0.001)))\n",
    "\tmodel.add(Dense(4, kernel_initializer='normal', activation='relu',kernel_regularizer=regularizers.l2(0.001)))\n",
    "\tmodel.add(Dense(8, kernel_initializer='normal', activation='relu',kernel_regularizer=regularizers.l1(0.001)))\n",
    "\tmodel.add(Dense(4, kernel_initializer='normal', activation='relu',kernel_regularizer=regularizers.l2(0.001)))\n",
    "\tmodel.add(Dense(9, kernel_initializer='normal', activation='relu',kernel_regularizer=regularizers.l2(0.001)))\n",
    "\tmodel.add(Dense(1, kernel_initializer='normal',kernel_regularizer=regularizers.l1(0.001), kernel_constraint=non_neg()))\n",
    "\t# Compile model\n",
    "\tmodel.compile(loss='mean_absolute_error', optimizer='adam')\n",
    "\treturn model\n",
    "\n",
    "from mlxtend.regressor import StackingRegressor\n",
    "from sklearn.ensemble import GradientBoostingRegressor\n",
    "from sklearn import neighbors\n",
    "from sklearn.neural_network import MLPRegressor\n",
    "MLP=MLPRegressor()\n",
    "GBoost=GradientBoostingRegressor(verbose=0)\n",
    "from sklearn.svm import SVR\n",
    "svr = SVR(kernel='poly',degree=1)\n",
    "knr = neighbors.KNeighborsRegressor()\n",
    "# fix random seed for reproducibility\n",
    "seed = 8\n",
    "\n",
    "\n",
    "numpy.random.seed(seed)\n",
    "estimators = []\n",
    "estimators.append(('standardize', StandardScaler()))\n",
    "estimators.append(('mlp', KerasRegressor(build_fn=larger_model, epochs=50, batch_size=10, verbose=2)))\n",
    "pipeline = Pipeline(estimators)\n",
    "##kfold = KFold(n_splits=3, random_state=seed)\n",
    "##results = cross_val_score(pipeline, X, Y, cv=kfold)\n",
    "#stack = StackingRegressor(regressors=[knr,svr],meta_regressor=svr)\n",
    "#svr.fit(X,Y)\n",
    "#YPredict=svr.predict(test)\n",
    "pipeline.fit(X,Y)\n",
    "YPredict=pipeline.predict(test)\n",
    "#print(\"Standardized: %.2f (%.2f) MAE\" % (results.mean(), results.std()))\n",
    "\n",
    "YPredict=numpy.asarray(YPredict)\n",
    "# kaggle.py module\n",
    "\n",
    "import csv\n",
    "import numpy as np\n",
    "\n",
    "#Save prediction vector in Kaggle CSV format\n",
    "#Input must be a Nx1, 1XN, or N long numpy vector\n",
    "def kaggleize(predictions,file):\n",
    "\n",
    "\tif(len(predictions.shape)==1):\n",
    "\t\tpredictions.shape = [predictions.shape[0],1]\n",
    "\n",
    "\tids = 1 + np.arange(predictions.shape[0])[None].T\n",
    "\tkaggle_predictions = np.hstack((ids,predictions))\n",
    "\twriter = csv.writer(open(file, 'w'))\n",
    "\twriter.writerow(['# id','Prediction'])\n",
    "\twriter.writerows(kaggle_predictions)\n",
    "    \n",
    "    \n",
    "    \n",
    "   \n",
    "\n",
    "kaggleize(YPredict,\"Desktop/ArmanKaggle.csv\") "
   ]
  },
  {
   "cell_type": "code",
   "execution_count": 65,
   "metadata": {},
   "outputs": [
    {
     "name": "stdout",
     "output_type": "stream",
     "text": [
      "Standardized: 0.0001000 (0.0000000) MAE\n"
     ]
    }
   ],
   "source": [
    "print(\"Standardized: %.7f (%.7f) MAE\" % (YPredict.mean(), YPredict.std()))"
   ]
  },
  {
   "cell_type": "code",
   "execution_count": 93,
   "metadata": {},
   "outputs": [
    {
     "name": "stderr",
     "output_type": "stream",
     "text": [
      "C:\\Users\\Arman\\Anaconda3\\lib\\site-packages\\sklearn\\neural_network\\multilayer_perceptron.py:566: UserWarning: Training interrupted by user.\n",
      "  warnings.warn(\"Training interrupted by user.\")\n"
     ]
    }
   ],
   "source": [
    "from sklearn.neural_network import MLPRegressor\n",
    "import numpy as np\n",
    "\n",
    "reg = MLPRegressor(hidden_layer_sizes=(100,100,100,100,100,50,50,20),  activation='relu', solver='adam',    alpha=0.001,batch_size=10, power_t=0.5, max_iter=1000, shuffle=True,\n",
    "               random_state=None, tol=0.0001, verbose=False, warm_start=False, momentum=0.9,\n",
    "               nesterovs_momentum=True, early_stopping=False, validation_fraction=0.1, beta_1=0.9, beta_2=0.999,\n",
    "               epsilon=1e-08)\n",
    "\n",
    "reg = reg.fit(X, Y)\n",
    "\n",
    "\n",
    "YPredict = reg.predict(test)"
   ]
  },
  {
   "cell_type": "code",
   "execution_count": null,
   "metadata": {},
   "outputs": [],
   "source": []
  },
  {
   "cell_type": "code",
   "execution_count": null,
   "metadata": {
    "collapsed": true
   },
   "outputs": [],
   "source": []
  }
 ],
 "metadata": {
  "kernelspec": {
   "display_name": "Python 3",
   "language": "python",
   "name": "python3"
  },
  "language_info": {
   "codemirror_mode": {
    "name": "ipython",
    "version": 3
   },
   "file_extension": ".py",
   "mimetype": "text/x-python",
   "name": "python",
   "nbconvert_exporter": "python",
   "pygments_lexer": "ipython3",
   "version": "3.6.3"
  }
 },
 "nbformat": 4,
 "nbformat_minor": 2
}
